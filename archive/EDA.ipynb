{
 "cells": [
  {
   "attachments": {},
   "cell_type": "markdown",
   "metadata": {},
   "source": [
    "#### Dependencies"
   ]
  },
  {
   "cell_type": "code",
   "execution_count": 1,
   "metadata": {},
   "outputs": [],
   "source": [
    "import pandas as pd\n",
    "import numpy as np\n",
    "from matplotlib import pyplot as plt\n",
    "import json"
   ]
  },
  {
   "attachments": {},
   "cell_type": "markdown",
   "metadata": {},
   "source": [
    "### Largest Subreddits"
   ]
  },
  {
   "attachments": {},
   "cell_type": "markdown",
   "metadata": {},
   "source": [
    "Load MongoDB query result"
   ]
  },
  {
   "cell_type": "code",
   "execution_count": 2,
   "metadata": {},
   "outputs": [],
   "source": [
    "with open('subreddit_popularity.txt', 'r') as f:\n",
    "    data = f.read().splitlines()\n",
    "\n",
    "data = [line.replace(\"'\", '\"') for line in data]\n",
    "\n",
    "data = [json.loads(line) for line in data]\n",
    "\n",
    "df = pd.DataFrame(data)"
   ]
  },
  {
   "attachments": {},
   "cell_type": "markdown",
   "metadata": {},
   "source": [
    "Log base 10 transform the number of posts"
   ]
  },
  {
   "cell_type": "code",
   "execution_count": 3,
   "metadata": {},
   "outputs": [],
   "source": [
    "df['log10_post_number'] = df['post_number'].apply(lambda x: np.log10(x))"
   ]
  },
  {
   "attachments": {},
   "cell_type": "markdown",
   "metadata": {},
   "source": [
    "plot distribution of number of posts"
   ]
  },
  {
   "cell_type": "code",
   "execution_count": 10,
   "metadata": {},
   "outputs": [
    {
     "data": {
      "text/plain": [
       "Text(0, 0.5, 'Number of subreddits')"
      ]
     },
     "execution_count": 10,
     "metadata": {},
     "output_type": "execute_result"
    },
    {
     "data": {
      "image/png": "[encoded data removed]",
      "text/plain": [
       "<Figure size 432x288 with 1 Axes>"
      ]
     },
     "metadata": {
      "needs_background": "light"
     },
     "output_type": "display_data"
    }
   ],
   "source": [
    "small_df = df[df['log10_post_number'] < 3]\n",
    "\n",
    "plt.hist(df['log10_post_number'], bins=100)\n",
    "plt.title(f'{round((len(small_df) / len(df) * 100), 2)} % of subreddits have less than 1000 posts')\n",
    "plt.xlabel('log10 of the number posts')\n",
    "plt.ylabel('Number of subreddits')\n"
   ]
  },
  {
   "attachments": {},
   "cell_type": "markdown",
   "metadata": {},
   "source": [
    "Find the 200 largest subreddits"
   ]
  },
  {
   "cell_type": "code",
   "execution_count": null,
   "metadata": {},
   "outputs": [],
   "source": [
    "top_100 = df.sort_values(by='post_number', ascending=False).head(100)\n",
    "top_200 = df.sort_values(by='post_number', ascending=False).head(200)\n",
    "top_300 = df.sort_values(by='post_number', ascending=False).head(300)\n",
    "\n",
    "df['top_100'] = df['subreddit'].apply(lambda x: x in top_100['subreddit'].values)\n",
    "df['top_200'] = df['subreddit'].apply(lambda x: x in top_200['subreddit'].values)\n",
    "df['top_300'] = df['subreddit'].apply(lambda x: x in top_300['subreddit'].values)\n",
    "\n",
    "df['top_100'] = df['top_100'].map({True: 'Top 100', False: 'Rest of subreddits'})\n",
    "df['top_200'] = df['top_200'].map({True: 'Top 200', False: 'Rest of subreddits'})\n",
    "df['top_300'] = df['top_300'].map({True: 'Top 300', False: 'Rest of subreddits'})\n",
    "\n",
    "group_100_share = df.groupby('top_100')['post_number'].sum().map(lambda x: x / df['post_number'].sum())\n",
    "group_200_share = df.groupby('top_200')['post_number'].sum().map(lambda x: x / df['post_number'].sum())\n",
    "group_300_share = df.groupby('top_300')['post_number'].sum().map(lambda x: x / df['post_number'].sum())\n",
    "\n",
    "group_100_share.plot(kind='bar')\n",
    "group_200_share.plot(kind='bar')\n",
    "group_300_share.plot(kind='bar')\n"
   ]
  },
  {
   "cell_type": "code",
   "execution_count": 30,
   "metadata": {},
   "outputs": [
    {
     "name": "stderr",
     "output_type": "stream",
     "text": [
      "/home/guest/.local/lib/python3.7/site-packages/ipykernel_launcher.py:5: UserWarning: FixedFormatter should only be used together with FixedLocator\n",
      "  \"\"\"\n",
      "/home/guest/.local/lib/python3.7/site-packages/ipykernel_launcher.py:11: UserWarning: FixedFormatter should only be used together with FixedLocator\n",
      "  # This is added back by InteractiveShellApp.init_path()\n",
      "/home/guest/.local/lib/python3.7/site-packages/ipykernel_launcher.py:16: UserWarning: FixedFormatter should only be used together with FixedLocator\n",
      "  app.launch_new_instance()\n"
     ]
    },
    {
     "data": {
      "text/plain": [
       "[Text(0, 0, 'Rest of subreddits'), Text(1, 0, 'Top 300')]"
      ]
     },
     "execution_count": 30,
     "metadata": {},
     "output_type": "execute_result"
    },
    {
     "data": {
      "image/png": "[encoded data removed]",
      "text/plain": [
       "<Figure size 1080x504 with 3 Axes>"
      ]
     },
     "metadata": {
      "needs_background": "light"
     },
     "output_type": "display_data"
    }
   ],
   "source": [
    "figure, axes = plt.subplots(1, 3, figsize=(15, 7))\n",
    "axes[0].bar(group_100_share.index, group_100_share.values)\n",
    "axes[0].set_title('Share of top 100 subreddits')\n",
    "axes[0].set_ylim(0, 1)\n",
    "axes[0].set_xticklabels(group_100_share.index, rotation=45)\n",
    "axes[0].set_ylabel('Share of total number of posts')\n",
    "\n",
    "axes[1].bar(group_200_share.index, group_200_share.values)\n",
    "axes[1].set_title('Share of top 200 subreddits')\n",
    "axes[1].set_ylim(0, 1)\n",
    "axes[1].set_xticklabels(group_200_share.index, rotation=45)\n",
    "\n",
    "axes[2].bar(group_300_share.index, group_300_share.values)\n",
    "axes[2].set_title('Share of top 300 subreddits')\n",
    "axes[2].set_ylim(0, 1)\n",
    "axes[2].set_xticklabels(group_300_share.index, rotation=45)\n"
   ]
  },
  {
   "cell_type": "code",
   "execution_count": 24,
   "metadata": {},
   "outputs": [],
   "source": [
    "top_100.to_csv('top_100_subreddits.csv', index=False)\n",
    "top_200.to_csv('top_200_subreddits.csv', index=False)\n",
    "top_300.to_csv('top_300_subreddits.csv', index=False)"
   ]
  },
  {
   "cell_type": "code",
   "execution_count": null,
   "metadata": {},
   "outputs": [],
   "source": []
  }
 ],
 "metadata": {
  "kernelspec": {
   "display_name": "Python 3",
   "language": "python",
   "name": "python3"
  },
  "language_info": {
   "codemirror_mode": {
    "name": "ipython",
    "version": 3
   },
   "file_extension": ".py",
   "mimetype": "text/x-python",
   "name": "python",
   "nbconvert_exporter": "python",
   "pygments_lexer": "ipython3",
   "version": "3.7.0"
  },
  "orig_nbformat": 4,
  "vscode": {
   "interpreter": {
    "hash": "72386fb43db8da7460191fdfa40971fb34656c6a042b54df6fe4e699bf69e4b8"
   }
  }
 },
 "nbformat": 4,
 "nbformat_minor": 2
}
