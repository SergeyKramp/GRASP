{
 "cells": [
  {
   "cell_type": "code",
   "execution_count": 21,
   "metadata": {},
   "outputs": [
    {
     "name": "stderr",
     "output_type": "stream",
     "text": [
      "/usr/local/lib/python3.6/dist-packages/ipykernel_launcher.py:12: DeprecationWarning: collection_names is deprecated. Use list_collection_names instead.\n",
      "  if sys.path[0] == '':\n"
     ]
    },
    {
     "data": {
      "text/plain": [
       "['2022-05', 'final_db', 'tmpDlTvc.renameCollection', 'labelled_authors']"
      ]
     },
     "execution_count": 21,
     "metadata": {},
     "output_type": "execute_result"
    }
   ],
   "source": [
    "from pymongo import MongoClient\n",
    "import pandas as pd\n",
    "import matplotlib.pyplot as plt\n",
    "import numpy as np\n",
    "import statistics as stats\n",
    "from bson.json_util import dumps, loads\n",
    "from time import time\n",
    "\n",
    "client = MongoClient(\"localhost\", 27010)\n",
    "db = client.research\n",
    "db.authenticate(\"marilu\", \"topsecretpasswordformarilusmongo\")\n",
    "db.collection_names()"
   ]
  },
  {
   "cell_type": "code",
   "execution_count": 22,
   "metadata": {},
   "outputs": [
    {
     "name": "stdout",
     "output_type": "stream",
     "text": [
      "It took 1.98 minutes\n"
     ]
    }
   ],
   "source": [
    "t = time()\n",
    "sample_final_db = list(db.final_db.aggregate([{ '$sample': { 'size': 100000} }]))\n",
    "df = pd.DataFrame(sample_final_db)\n",
    "df = df.where(pd.notnull(df), None)\n",
    "print('It took', round((time()-t)/60, 2), 'minutes')"
   ]
  },
  {
   "cell_type": "code",
   "execution_count": 23,
   "metadata": {},
   "outputs": [
    {
     "name": "stdout",
     "output_type": "stream",
     "text": [
      "df shape: (100000, 25)\n"
     ]
    },
    {
     "data": {
      "text/html": [
       "<div>\n",
       "<style>\n",
       "    .dataframe thead tr:only-child th {\n",
       "        text-align: right;\n",
       "    }\n",
       "\n",
       "    .dataframe thead th {\n",
       "        text-align: left;\n",
       "    }\n",
       "\n",
       "    .dataframe tbody tr th {\n",
       "        vertical-align: top;\n",
       "    }\n",
       "</style>\n",
       "<table border=\"1\" class=\"dataframe\">\n",
       "  <thead>\n",
       "    <tr style=\"text-align: right;\">\n",
       "      <th></th>\n",
       "      <th>_id</th>\n",
       "      <th>age_source_post</th>\n",
       "      <th>author_id</th>\n",
       "      <th>birth_year</th>\n",
       "      <th>created_on</th>\n",
       "      <th>female</th>\n",
       "      <th>gender_source_post</th>\n",
       "      <th>male</th>\n",
       "      <th>nationality</th>\n",
       "      <th>nationality_in_domain</th>\n",
       "      <th>...</th>\n",
       "      <th>personality_judging</th>\n",
       "      <th>personality_perceiving</th>\n",
       "      <th>personality_sensing</th>\n",
       "      <th>personality_thinking</th>\n",
       "      <th>political_leaning</th>\n",
       "      <th>political_leaning_in_domain</th>\n",
       "      <th>post</th>\n",
       "      <th>post_body</th>\n",
       "      <th>post_id</th>\n",
       "      <th>subreddit</th>\n",
       "    </tr>\n",
       "  </thead>\n",
       "  <tbody>\n",
       "    <tr>\n",
       "      <th>0</th>\n",
       "      <td>64611d30ea9e7620df83a097</td>\n",
       "      <td>None</td>\n",
       "      <td>t2_2tolbmud</td>\n",
       "      <td>None</td>\n",
       "      <td>2022-09-21 11:24:14</td>\n",
       "      <td>None</td>\n",
       "      <td>None</td>\n",
       "      <td>None</td>\n",
       "      <td>None</td>\n",
       "      <td>None</td>\n",
       "      <td>...</td>\n",
       "      <td>None</td>\n",
       "      <td>None</td>\n",
       "      <td>None</td>\n",
       "      <td>None</td>\n",
       "      <td>left</td>\n",
       "      <td>0</td>\n",
       "      <td>...and that kind of central governing body doe...</td>\n",
       "      <td>None</td>\n",
       "      <td>ipb5bkx</td>\n",
       "      <td>r/therewasanattempt</td>\n",
       "    </tr>\n",
       "    <tr>\n",
       "      <th>1</th>\n",
       "      <td>64649772cdd1046b549917d2</td>\n",
       "      <td>None</td>\n",
       "      <td>t2_7l94j</td>\n",
       "      <td>None</td>\n",
       "      <td>2022-05-11 21:05:55</td>\n",
       "      <td>None</td>\n",
       "      <td>None</td>\n",
       "      <td>None</td>\n",
       "      <td>None</td>\n",
       "      <td>None</td>\n",
       "      <td>...</td>\n",
       "      <td>None</td>\n",
       "      <td>None</td>\n",
       "      <td>None</td>\n",
       "      <td>None</td>\n",
       "      <td>left</td>\n",
       "      <td>0</td>\n",
       "      <td>I may have mis read it. Have covid right now I...</td>\n",
       "      <td>None</td>\n",
       "      <td>i87z01m</td>\n",
       "      <td>r/moderatepolitics</td>\n",
       "    </tr>\n",
       "    <tr>\n",
       "      <th>2</th>\n",
       "      <td>6463c3dcccbc750a2c2ce4df</td>\n",
       "      <td>None</td>\n",
       "      <td>t2_8ldtaib1</td>\n",
       "      <td>None</td>\n",
       "      <td>2022-06-08 04:34:43</td>\n",
       "      <td>None</td>\n",
       "      <td>None</td>\n",
       "      <td>None</td>\n",
       "      <td>None</td>\n",
       "      <td>None</td>\n",
       "      <td>...</td>\n",
       "      <td>None</td>\n",
       "      <td>None</td>\n",
       "      <td>None</td>\n",
       "      <td>None</td>\n",
       "      <td>center</td>\n",
       "      <td>0</td>\n",
       "      <td>Ever have issues from soap in the eye from def...</td>\n",
       "      <td>None</td>\n",
       "      <td>ibkal5m</td>\n",
       "      <td>r/scubadiving</td>\n",
       "    </tr>\n",
       "    <tr>\n",
       "      <th>3</th>\n",
       "      <td>6463c3e6ccbc750a2c35f2b8</td>\n",
       "      <td>None</td>\n",
       "      <td>t2_90p1qoil</td>\n",
       "      <td>None</td>\n",
       "      <td>2022-06-28 16:43:13</td>\n",
       "      <td>None</td>\n",
       "      <td>None</td>\n",
       "      <td>None</td>\n",
       "      <td>None</td>\n",
       "      <td>None</td>\n",
       "      <td>...</td>\n",
       "      <td>0</td>\n",
       "      <td>1</td>\n",
       "      <td>1</td>\n",
       "      <td>1</td>\n",
       "      <td>None</td>\n",
       "      <td>None</td>\n",
       "      <td>Spider-Man taillights go hard</td>\n",
       "      <td>None</td>\n",
       "      <td>ie26fut</td>\n",
       "      <td>r/genesiscoupe</td>\n",
       "    </tr>\n",
       "    <tr>\n",
       "      <th>4</th>\n",
       "      <td>645bb34ab53634e627c4370a</td>\n",
       "      <td>None</td>\n",
       "      <td>t2_5zypaxv0</td>\n",
       "      <td>None</td>\n",
       "      <td>2022-12-10 23:18:48</td>\n",
       "      <td>None</td>\n",
       "      <td>None</td>\n",
       "      <td>None</td>\n",
       "      <td>None</td>\n",
       "      <td>None</td>\n",
       "      <td>...</td>\n",
       "      <td>None</td>\n",
       "      <td>None</td>\n",
       "      <td>None</td>\n",
       "      <td>None</td>\n",
       "      <td>center</td>\n",
       "      <td>0</td>\n",
       "      <td>None</td>\n",
       "      <td>That's fuckin sexy</td>\n",
       "      <td>izpnsxx</td>\n",
       "      <td>r/Construction</td>\n",
       "    </tr>\n",
       "  </tbody>\n",
       "</table>\n",
       "<p>5 rows × 25 columns</p>\n",
       "</div>"
      ],
      "text/plain": [
       "                        _id age_source_post    author_id birth_year  \\\n",
       "0  64611d30ea9e7620df83a097            None  t2_2tolbmud       None   \n",
       "1  64649772cdd1046b549917d2            None     t2_7l94j       None   \n",
       "2  6463c3dcccbc750a2c2ce4df            None  t2_8ldtaib1       None   \n",
       "3  6463c3e6ccbc750a2c35f2b8            None  t2_90p1qoil       None   \n",
       "4  645bb34ab53634e627c4370a            None  t2_5zypaxv0       None   \n",
       "\n",
       "            created_on female gender_source_post  male nationality  \\\n",
       "0  2022-09-21 11:24:14   None               None  None        None   \n",
       "1  2022-05-11 21:05:55   None               None  None        None   \n",
       "2  2022-06-08 04:34:43   None               None  None        None   \n",
       "3  2022-06-28 16:43:13   None               None  None        None   \n",
       "4  2022-12-10 23:18:48   None               None  None        None   \n",
       "\n",
       "  nationality_in_domain         ...          personality_judging  \\\n",
       "0                  None         ...                         None   \n",
       "1                  None         ...                         None   \n",
       "2                  None         ...                         None   \n",
       "3                  None         ...                            0   \n",
       "4                  None         ...                         None   \n",
       "\n",
       "  personality_perceiving personality_sensing personality_thinking  \\\n",
       "0                   None                None                 None   \n",
       "1                   None                None                 None   \n",
       "2                   None                None                 None   \n",
       "3                      1                   1                    1   \n",
       "4                   None                None                 None   \n",
       "\n",
       "  political_leaning political_leaning_in_domain  \\\n",
       "0              left                           0   \n",
       "1              left                           0   \n",
       "2            center                           0   \n",
       "3              None                        None   \n",
       "4            center                           0   \n",
       "\n",
       "                                                post           post_body  \\\n",
       "0  ...and that kind of central governing body doe...                None   \n",
       "1  I may have mis read it. Have covid right now I...                None   \n",
       "2  Ever have issues from soap in the eye from def...                None   \n",
       "3                      Spider-Man taillights go hard                None   \n",
       "4                                               None  That's fuckin sexy   \n",
       "\n",
       "   post_id            subreddit  \n",
       "0  ipb5bkx  r/therewasanattempt  \n",
       "1  i87z01m   r/moderatepolitics  \n",
       "2  ibkal5m        r/scubadiving  \n",
       "3  ie26fut       r/genesiscoupe  \n",
       "4  izpnsxx       r/Construction  \n",
       "\n",
       "[5 rows x 25 columns]"
      ]
     },
     "execution_count": 23,
     "metadata": {},
     "output_type": "execute_result"
    }
   ],
   "source": [
    "print('df shape:', str(df.shape))\n",
    "df.head()"
   ]
  },
  {
   "cell_type": "markdown",
   "metadata": {},
   "source": [
    "# Posts per month"
   ]
  },
  {
   "cell_type": "code",
   "execution_count": 24,
   "metadata": {},
   "outputs": [
    {
     "data": {
      "image/png": "[encoded data removed]",
      "text/plain": [
       "<Figure size 432x288 with 1 Axes>"
      ]
     },
     "metadata": {
      "needs_background": "light"
     },
     "output_type": "display_data"
    }
   ],
   "source": [
    "# plot total ammount of posts per month\n",
    "month = []\n",
    "for m in df['created_on']:\n",
    "    month.append(m[:7])\n",
    "df['month'] = month\n",
    "\n",
    "# Count the number of posts per month\n",
    "counts = df[\"month\"].value_counts().sort_index()\n",
    "\n",
    "# Plot the bar plot\n",
    "counts.plot(kind=\"bar\")\n",
    "plt.xlabel(\"Month\")\n",
    "plt.ylabel(\"Number of Posts\")\n",
    "plt.title(\"Posts per Month\")\n",
    "plt.show()"
   ]
  },
  {
   "cell_type": "code",
   "execution_count": 25,
   "metadata": {},
   "outputs": [
    {
     "data": {
      "text/plain": [
       "2022-05    15354\n",
       "2022-06    14244\n",
       "2022-07    14674\n",
       "2022-08    14123\n",
       "2022-09    12155\n",
       "2022-10    11613\n",
       "2022-11     9212\n",
       "2022-12     8616\n",
       "2023-01        9\n",
       "Name: month, dtype: int64"
      ]
     },
     "execution_count": 25,
     "metadata": {},
     "output_type": "execute_result"
    }
   ],
   "source": [
    "counts"
   ]
  },
  {
   "cell_type": "code",
   "execution_count": 26,
   "metadata": {},
   "outputs": [
    {
     "data": {
      "text/html": [
       "<div>\n",
       "<style>\n",
       "    .dataframe thead tr:only-child th {\n",
       "        text-align: right;\n",
       "    }\n",
       "\n",
       "    .dataframe thead th {\n",
       "        text-align: left;\n",
       "    }\n",
       "\n",
       "    .dataframe tbody tr th {\n",
       "        vertical-align: top;\n",
       "    }\n",
       "</style>\n",
       "<table border=\"1\" class=\"dataframe\">\n",
       "  <thead>\n",
       "    <tr style=\"text-align: right;\">\n",
       "      <th></th>\n",
       "      <th>age</th>\n",
       "      <th>gender</th>\n",
       "      <th>nationality</th>\n",
       "      <th>personality</th>\n",
       "      <th>politics</th>\n",
       "    </tr>\n",
       "  </thead>\n",
       "  <tbody>\n",
       "    <tr>\n",
       "      <th>2022-05</th>\n",
       "      <td>872</td>\n",
       "      <td>872</td>\n",
       "      <td>4411</td>\n",
       "      <td>890</td>\n",
       "      <td>9946</td>\n",
       "    </tr>\n",
       "    <tr>\n",
       "      <th>2022-06</th>\n",
       "      <td>802</td>\n",
       "      <td>802</td>\n",
       "      <td>4107</td>\n",
       "      <td>859</td>\n",
       "      <td>9170</td>\n",
       "    </tr>\n",
       "    <tr>\n",
       "      <th>2022-07</th>\n",
       "      <td>896</td>\n",
       "      <td>896</td>\n",
       "      <td>4360</td>\n",
       "      <td>890</td>\n",
       "      <td>9243</td>\n",
       "    </tr>\n",
       "    <tr>\n",
       "      <th>2022-08</th>\n",
       "      <td>742</td>\n",
       "      <td>742</td>\n",
       "      <td>4318</td>\n",
       "      <td>924</td>\n",
       "      <td>8826</td>\n",
       "    </tr>\n",
       "    <tr>\n",
       "      <th>2022-09</th>\n",
       "      <td>661</td>\n",
       "      <td>661</td>\n",
       "      <td>3692</td>\n",
       "      <td>758</td>\n",
       "      <td>7559</td>\n",
       "    </tr>\n",
       "    <tr>\n",
       "      <th>2022-10</th>\n",
       "      <td>647</td>\n",
       "      <td>647</td>\n",
       "      <td>3530</td>\n",
       "      <td>697</td>\n",
       "      <td>7190</td>\n",
       "    </tr>\n",
       "    <tr>\n",
       "      <th>2022-11</th>\n",
       "      <td>477</td>\n",
       "      <td>477</td>\n",
       "      <td>2789</td>\n",
       "      <td>536</td>\n",
       "      <td>5762</td>\n",
       "    </tr>\n",
       "    <tr>\n",
       "      <th>2022-12</th>\n",
       "      <td>291</td>\n",
       "      <td>291</td>\n",
       "      <td>2464</td>\n",
       "      <td>554</td>\n",
       "      <td>5557</td>\n",
       "    </tr>\n",
       "    <tr>\n",
       "      <th>2023-01</th>\n",
       "      <td>1</td>\n",
       "      <td>1</td>\n",
       "      <td>3</td>\n",
       "      <td>0</td>\n",
       "      <td>5</td>\n",
       "    </tr>\n",
       "  </tbody>\n",
       "</table>\n",
       "</div>"
      ],
      "text/plain": [
       "         age  gender  nationality  personality  politics\n",
       "2022-05  872     872         4411          890      9946\n",
       "2022-06  802     802         4107          859      9170\n",
       "2022-07  896     896         4360          890      9243\n",
       "2022-08  742     742         4318          924      8826\n",
       "2022-09  661     661         3692          758      7559\n",
       "2022-10  647     647         3530          697      7190\n",
       "2022-11  477     477         2789          536      5762\n",
       "2022-12  291     291         2464          554      5557\n",
       "2023-01    1       1            3            0         5"
      ]
     },
     "execution_count": 26,
     "metadata": {},
     "output_type": "execute_result"
    }
   ],
   "source": [
    "attributes=['age', 'gender', 'personality', 'politics', 'nationality']\n",
    "counts = {}\n",
    "for a in attributes:\n",
    "    counts[a] = {}\n",
    "    for month in sorted(list(df['month'].unique())):\n",
    "        counts[a][month] = 0\n",
    "\n",
    "d = {'month' : list(df['month']),\n",
    "    'birth_year' : list(df['birth_year']),\n",
    "    'female' : list(df['female']),\n",
    "    'male' : list(df['male']),\n",
    "    'extrovert' : list(df['personality_extrovert']),\n",
    "     'introvert' : list(df['personality_introvert']),\n",
    "    'politics' : list(df['political_leaning']),\n",
    "    'nationality' : list(df['nationality'])\n",
    "    \n",
    "    }\n",
    "for n in range(len(df)):\n",
    "    if d['birth_year'][n] is not None:\n",
    "        counts['age'][d['month'][n]]+=1\n",
    "    if d['female'][n] is not None or d['male'][n] is not None:\n",
    "        counts['gender'][df['month'][n]]+=1\n",
    "    if d['extrovert'][n] is not None or d['introvert'][n]:\n",
    "        counts['personality'][df['month'][n]]+=1\n",
    "    if d['politics'][n] is not None:\n",
    "        counts['politics'][df['month'][n]]+=1\n",
    "    if d['nationality'][n] is not None:\n",
    "        counts['nationality'][df['month'][n]]+=1\n",
    "\n",
    "counts_df = pd.DataFrame(counts)\n",
    "counts_df"
   ]
  },
  {
   "cell_type": "code",
   "execution_count": 27,
   "metadata": {},
   "outputs": [
    {
     "data": {
      "image/png": "[encoded data removed]",
      "text/plain": [
       "<Figure size 432x288 with 1 Axes>"
      ]
     },
     "metadata": {
      "needs_background": "light"
     },
     "output_type": "display_data"
    }
   ],
   "source": [
    "# plot ammount of attributes per month\n",
    "# set width of bars\n",
    "barWidth = 0.15\n",
    " \n",
    "# set heights of bars\n",
    "age = counts_df['age']\n",
    "gender = counts_df['gender']\n",
    "personality = counts_df['personality']\n",
    "politics = counts_df['politics']\n",
    "nationality = counts_df['nationality']\n",
    "\n",
    "# Set position of bar on X axis\n",
    "r1 = np.arange(len(age))\n",
    "r2 = [x + barWidth for x in r1]\n",
    "r3 = [x + barWidth for x in r2]\n",
    "r4 = [x + barWidth for x in r3]\n",
    "r5 = [x + barWidth for x in r4]\n",
    " \n",
    "# Make the plot\n",
    "plt.bar(r1, age, color='#3d7336', width=barWidth, edgecolor='white', label='age')\n",
    "plt.bar(r2, gender, color='#bbecd2', width=barWidth, edgecolor='white', label='gender')\n",
    "plt.bar(r3, personality, color='#96bd2b', width=barWidth, edgecolor='white', label='personality')\n",
    "plt.bar(r4, politics, color='#042c35', width=barWidth, edgecolor='white', label='politics')\n",
    "plt.bar(r5, nationality, color='#0999ec', width=barWidth, edgecolor='white', label='nationality')\n",
    " \n",
    "# Add xticks on the middle of the group bars\n",
    "plt.xlabel('month', fontweight='bold')\n",
    "plt.xticks([r + barWidth for r in range(len(age))], sorted(list(df['month'].unique())))\n",
    " \n",
    "# Create legend & Show graphic\n",
    "plt.legend()\n",
    "plt.show()"
   ]
  },
  {
   "cell_type": "markdown",
   "metadata": {},
   "source": [
    "# Attributes' distribution"
   ]
  },
  {
   "cell_type": "code",
   "execution_count": 8,
   "metadata": {},
   "outputs": [],
   "source": [
    "binary_vars = {'gender':{'male': 'male', 'female': 'female'}, \n",
    "               'personality_D1':{'extroversion': 'personality_extrovert', 'introversion': 'personality_introvert'},\n",
    "               'personality_D2': {'sensors': 'personality_sensing', 'intuitives': 'personality_intuitive'},\n",
    "               'personality_D3':{'thinkers': 'personality_thinking', 'feelers': 'personality_feeling'},\n",
    "               'personality_D4':{'judgers': 'personality_judging', 'perceivers': 'personality_perceiving'}\n",
    "              }\n",
    "\n",
    "categorical_variables = ['nationality', 'political_leaning', 'birth_year']\n",
    "\n",
    "n_posts_per_label = {'gender':{'male': None, 'female': None},\n",
    "                     'personality_D1':{'extroversion': None, 'introversion': None},\n",
    "                     'personality_D2':{'sensors': None, 'intuitives': None},\n",
    "                     'personality_D3':{'thinkers': None, 'feelers': None},\n",
    "                     'personality_D4':{'judgers': None, 'perceivers': None},\n",
    "                     'political_leaning': {},\n",
    "                     'nationality': {},\n",
    "                     'birth_year': {}\n",
    "                    }\n",
    "\n",
    "percentage_posts_per_label = {'gender':[{'male': None, 'female': None}, None, None],\n",
    "                              'personality_D1':[{'extroversion': None, 'introversion': None}, None, None],\n",
    "                              'personality_D2':[{'sensors': None, 'intuitives': None}, None, None],\n",
    "                              'personality_D3':[{'thinkers': None, 'feelers': None}, None, None],\n",
    "                              'personality_D4':[{'judgers': None, 'perceivers': None}, None, None],\n",
    "                              'political_leaning': [{}, None, None],\n",
    "                              'nationality': [{}, None, None],\n",
    "                              'birth_year': [{}, None, None]\n",
    "                             }"
   ]
  },
  {
   "cell_type": "code",
   "execution_count": 9,
   "metadata": {},
   "outputs": [],
   "source": [
    "# count number of posts per label (binary variables)\n",
    "for attribute in binary_vars.keys():\n",
    "    for label in binary_vars[attribute].keys():\n",
    "        n_posts_per_label[attribute][label] = df[binary_vars[attribute][label]].sum()"
   ]
  },
  {
   "cell_type": "code",
   "execution_count": 10,
   "metadata": {},
   "outputs": [],
   "source": [
    "# count number of posts per label (categorical variables)\n",
    "for var in categorical_variables:\n",
    "    labels = df[var].unique()\n",
    "    labels = [x for x in labels if x is not None]\n",
    "    if var == 'birth_year':\n",
    "        labels = sorted([int(x) for x in labels])\n",
    "    for label in labels:\n",
    "        n_posts_per_label[var][str(label)] = df[var].value_counts()[str(label)]\n"
   ]
  },
  {
   "cell_type": "code",
   "execution_count": 11,
   "metadata": {},
   "outputs": [],
   "source": [
    "n_posts_per_label['nationality'] = dict(sorted(n_posts_per_label['nationality'].items(),\n",
    "                                               key=lambda x:x[1], reverse = True))"
   ]
  },
  {
   "cell_type": "code",
   "execution_count": 12,
   "metadata": {},
   "outputs": [],
   "source": [
    "for attribute in n_posts_per_label.keys():\n",
    "    tot = 0\n",
    "    for label in n_posts_per_label[attribute]:\n",
    "        tot+= n_posts_per_label[attribute][label]\n",
    "    for label in n_posts_per_label[attribute]:\n",
    "        percentage_posts_per_label[attribute][0][label] = round((n_posts_per_label[attribute][label]/tot)*100, 2)\n",
    "        percentage_posts_per_label[attribute][1] = round(tot)\n",
    "        percentage_posts_per_label[attribute][2] = round((tot/len(df))*100, 2)"
   ]
  },
  {
   "cell_type": "code",
   "execution_count": 13,
   "metadata": {},
   "outputs": [],
   "source": [
    "percentage_posts_per_label['birth_year'][0] = dict(sorted(percentage_posts_per_label['birth_year'][0].items(),\n",
    "                                               key=lambda x:x[1], reverse = True))"
   ]
  },
  {
   "cell_type": "code",
   "execution_count": 14,
   "metadata": {
    "collapsed": true
   },
   "outputs": [
    {
     "data": {
      "text/plain": [
       "{'gender': [{'male': 58.53, 'female': 41.47}, 521023, 5.21],\n",
       " 'personality_D1': [{'extroversion': 23.55, 'introversion': 76.45},\n",
       "  606641,\n",
       "  6.07],\n",
       " 'personality_D2': [{'sensors': 15.1, 'intuitives': 84.9}, 606641, 6.07],\n",
       " 'personality_D3': [{'thinkers': 67.05, 'feelers': 32.95}, 606641, 6.07],\n",
       " 'personality_D4': [{'judgers': 54.26, 'perceivers': 45.74}, 606641, 6.07],\n",
       " 'political_leaning': [{'right': 31.5, 'center': 42.09, 'left': 26.41},\n",
       "  6348531,\n",
       "  63.49],\n",
       " 'nationality': [{'USA': 11.28,\n",
       "   'Germany': 10.89,\n",
       "   'United Kingdom': 10.25,\n",
       "   'The Netherlands': 6.35,\n",
       "   'Sweden': 4.12,\n",
       "   'France': 3.96,\n",
       "   'Poland': 3.92,\n",
       "   'Finland': 3.8,\n",
       "   'Italy': 3.75,\n",
       "   'Ireland': 3.29,\n",
       "   'Spain': 2.73,\n",
       "   'Romania': 2.51,\n",
       "   'Denmark': 2.47,\n",
       "   'Turkey': 2.47,\n",
       "   'Portugal': 2.42,\n",
       "   'Austria': 2.16,\n",
       "   'Belgium': 1.87,\n",
       "   'Norway': 1.87,\n",
       "   'Greece': 1.71,\n",
       "   'Hungary': 1.62,\n",
       "   'Czech Republic': 1.59,\n",
       "   'Canada': 1.39,\n",
       "   'Croatia': 1.35,\n",
       "   'Switzerland': 1.14,\n",
       "   'Bulgaria': 0.96,\n",
       "   'Ukraine': 0.92,\n",
       "   'Serbia': 0.89,\n",
       "   'Slovenia': 0.81,\n",
       "   'Australia': 0.74,\n",
       "   'Russia': 0.73,\n",
       "   'Lithuania': 0.73,\n",
       "   'Slovakia': 0.61,\n",
       "   'Estonia': 0.61,\n",
       "   'Argentina': 0.33,\n",
       "   'Mexico': 0.33,\n",
       "   'Iceland': 0.33,\n",
       "   'Brazil': 0.28,\n",
       "   'India': 0.25,\n",
       "   'Israel': 0.25,\n",
       "   'Albania': 0.21,\n",
       "   'Bosnia and Herzegovina': 0.21,\n",
       "   'Luxembourg': 0.21,\n",
       "   'Georgia': 0.2,\n",
       "   'Cyprus': 0.18,\n",
       "   'North Macedonia': 0.16,\n",
       "   'Armenia': 0.15,\n",
       "   'Montenegro': 0.13,\n",
       "   'Malta': 0.13,\n",
       "   'Kosovo': 0.13,\n",
       "   'Moldova': 0.12,\n",
       "   'Philippines': 0.09,\n",
       "   'Taiwan': 0.08,\n",
       "   'Azerbaijan': 0.08,\n",
       "   'Chili': 0.04,\n",
       "   'Kazakhstan': 0.04,\n",
       "   'Greenland': 0.04,\n",
       "   'Japan': 0.04,\n",
       "   'Liechtenstein': 0.02,\n",
       "   'Uruguay': 0.02,\n",
       "   'Cuba': 0.01,\n",
       "   'Iran': 0.01,\n",
       "   'Syria': 0.01,\n",
       "   'Kuwait': 0.01,\n",
       "   'New Zealand': 0.0},\n",
       "  2949127,\n",
       "  29.49],\n",
       " 'birth_year': [{'1998': 9.73,\n",
       "   '1997': 4.57,\n",
       "   '1992': 3.9,\n",
       "   '1991': 3.84,\n",
       "   '2000': 3.53,\n",
       "   '1990': 3.49,\n",
       "   '1995': 3.28,\n",
       "   '1988': 3.2,\n",
       "   '1996': 2.94,\n",
       "   '1987': 2.81,\n",
       "   '1986': 2.71,\n",
       "   '1984': 2.67,\n",
       "   '1994': 2.53,\n",
       "   '1985': 2.39,\n",
       "   '1993': 2.3,\n",
       "   '1999': 2.27,\n",
       "   '1989': 2.22,\n",
       "   '1977': 2.2,\n",
       "   '1982': 2.15,\n",
       "   '2001': 2.12,\n",
       "   '2004': 2.03,\n",
       "   '1980': 1.95,\n",
       "   '1978': 1.94,\n",
       "   '1979': 1.85,\n",
       "   '2005': 1.77,\n",
       "   '2007': 1.72,\n",
       "   '1983': 1.69,\n",
       "   '2003': 1.69,\n",
       "   '1981': 1.44,\n",
       "   '1962': 1.27,\n",
       "   '2002': 1.16,\n",
       "   '1976': 1.13,\n",
       "   '1974': 1.04,\n",
       "   '1975': 1.0,\n",
       "   '1969': 0.98,\n",
       "   '1972': 0.96,\n",
       "   '1965': 0.94,\n",
       "   '1971': 0.92,\n",
       "   '2006': 0.92,\n",
       "   '1973': 0.89,\n",
       "   '1966': 0.83,\n",
       "   '1967': 0.76,\n",
       "   '1970': 0.75,\n",
       "   '1968': 0.7,\n",
       "   '1963': 0.55,\n",
       "   '1954': 0.49,\n",
       "   '1964': 0.48,\n",
       "   '1958': 0.44,\n",
       "   '2008': 0.39,\n",
       "   '1957': 0.32,\n",
       "   '1960': 0.25,\n",
       "   '1959': 0.22,\n",
       "   '1961': 0.22,\n",
       "   '1949': 0.21,\n",
       "   '1948': 0.19,\n",
       "   '1953': 0.17,\n",
       "   '1956': 0.15,\n",
       "   '1942': 0.14,\n",
       "   '1950': 0.1,\n",
       "   '2010': 0.1,\n",
       "   '1955': 0.09,\n",
       "   '2009': 0.09,\n",
       "   '1947': 0.08,\n",
       "   '1952': 0.05,\n",
       "   '1951': 0.03,\n",
       "   '1938': 0.02,\n",
       "   '1923': 0.01,\n",
       "   '1936': 0.01,\n",
       "   '1937': 0.01,\n",
       "   '2011': 0.01,\n",
       "   '1939': 0.0,\n",
       "   '1943': 0.0,\n",
       "   '1946': 0.0,\n",
       "   '2012': 0.0},\n",
       "  521023,\n",
       "  5.21]}"
      ]
     },
     "execution_count": 14,
     "metadata": {},
     "output_type": "execute_result"
    }
   ],
   "source": [
    "# each attribute lists contain percentage of specific labels in the attribute's total posts, \n",
    "#number of posts of that attribute, percentage occupied by that attribute in the df (NB. personality is 5% in total)\n",
    "percentage_posts_per_label"
   ]
  },
  {
   "cell_type": "code",
   "execution_count": 15,
   "metadata": {},
   "outputs": [
    {
     "data": {
      "image/png": "[encoded data removed]",
      "text/plain": [
       "<Figure size 432x288 with 1 Axes>"
      ]
     },
     "metadata": {
      "needs_background": "light"
     },
     "output_type": "display_data"
    }
   ],
   "source": [
    "# plot gender\n",
    "fig = plt.figure()\n",
    "ax = fig.add_axes([0,0,1,1])\n",
    "gender = ['Male', 'Female']\n",
    "proportions = [percentage_posts_per_label['gender'][0]['male'], percentage_posts_per_label['gender'][0]['female']]\n",
    "ax.bar(gender,proportions)\n",
    "ax.set_title('Distribution by gender')\n",
    "plt.show()"
   ]
  },
  {
   "cell_type": "code",
   "execution_count": 16,
   "metadata": {},
   "outputs": [
    {
     "data": {
      "image/png": "[encoded data removed]",
      "text/plain": [
       "<Figure size 432x288 with 1 Axes>"
      ]
     },
     "metadata": {
      "needs_background": "light"
     },
     "output_type": "display_data"
    }
   ],
   "source": [
    "# plot personality\n",
    "attributes = ('[1]extroverts/introverts[2]', '\\n[1]sensors/intuitives[2]', '[1]thinkers/feelers[2]', '\\n[1]judgers/perceivers[2]')\n",
    "label_counts = {\n",
    "    '[1]': np.array([percentage_posts_per_label['personality_D1'][0]['extroversion'], \n",
    "                    percentage_posts_per_label['personality_D2'][0]['sensors'],\n",
    "                    percentage_posts_per_label['personality_D3'][0]['thinkers'],\n",
    "                    percentage_posts_per_label['personality_D4'][0]['judgers']]),\n",
    "    '[2]': np.array([percentage_posts_per_label['personality_D1'][0]['introversion'], \n",
    "                    percentage_posts_per_label['personality_D2'][0]['intuitives'],\n",
    "                    percentage_posts_per_label['personality_D3'][0]['feelers'],\n",
    "                    percentage_posts_per_label['personality_D4'][0]['perceivers']]),\n",
    "}\n",
    "width = 0.6  # the width of the bars: can also be len(x) sequence\n",
    "\n",
    "fig, ax = plt.subplots()\n",
    "bottom = np.zeros(4)\n",
    "\n",
    "for label, label_counts in label_counts.items():\n",
    "    p = ax.bar(attributes, label_counts, width, label=label, bottom=bottom)\n",
    "    bottom += label_counts\n",
    "\n",
    "    #ax.bar_label(p, label_type='center')\n",
    "\n",
    "ax.set_title('Proportion of personality labels by Meyers Briggs pair')\n",
    "ax.legend()\n",
    "\n",
    "plt.show()"
   ]
  },
  {
   "cell_type": "code",
   "execution_count": 17,
   "metadata": {},
   "outputs": [
    {
     "data": {
      "image/png": "[encoded data removed]",
      "text/plain": [
       "<Figure size 432x288 with 1 Axes>"
      ]
     },
     "metadata": {
      "needs_background": "light"
     },
     "output_type": "display_data"
    }
   ],
   "source": [
    "# plot political leaning\n",
    "fig = plt.figure()\n",
    "ax = fig.add_axes([0,0,1,1])\n",
    "gender = ['Center', 'Right', 'Left']\n",
    "proportions = [percentage_posts_per_label['political_leaning'][0]['center'], \n",
    "               percentage_posts_per_label['political_leaning'][0]['right'],\n",
    "              percentage_posts_per_label['political_leaning'][0]['left']]\n",
    "ax.bar(gender,proportions)\n",
    "ax.set_title('Distribution by political leaning')\n",
    "plt.show()"
   ]
  },
  {
   "cell_type": "code",
   "execution_count": 18,
   "metadata": {},
   "outputs": [
    {
     "data": {
      "image/png": "[encoded data removed]",
      "text/plain": [
       "<Figure size 432x288 with 1 Axes>"
      ]
     },
     "metadata": {},
     "output_type": "display_data"
    }
   ],
   "source": [
    "# Plot nationalities\n",
    "labels = []\n",
    "sizes = []\n",
    "\n",
    "for x, y in n_posts_per_label['nationality'].items():\n",
    "    labels.append(x)\n",
    "    sizes.append(y)\n",
    "\n",
    "# Plot\n",
    "plt.pie(sizes, labels=labels, radius = 10)\n",
    "\n",
    "plt.axis('equal')\n",
    "plt.show()"
   ]
  },
  {
   "cell_type": "code",
   "execution_count": 19,
   "metadata": {},
   "outputs": [
    {
     "data": {
      "text/plain": [
       "count    521023.000000\n",
       "mean       1988.213096\n",
       "std          12.435773\n",
       "min        1923.000000\n",
       "25%        1981.000000\n",
       "50%        1991.000000\n",
       "75%        1998.000000\n",
       "max        2012.000000\n",
       "Name: col, dtype: float64"
      ]
     },
     "execution_count": 19,
     "metadata": {},
     "output_type": "execute_result"
    }
   ],
   "source": [
    "#df['birth_year'].astype('int', errors='ignore')[5173304].describe()\n",
    "birth_year = [int(x) for x in list(df['birth_year']) if x is not None]\n",
    "pd.DataFrame({'col':birth_year})['col'].describe()"
   ]
  },
  {
   "cell_type": "code",
   "execution_count": 20,
   "metadata": {},
   "outputs": [
    {
     "data": {
      "text/plain": [
       "<BarContainer object of 74 artists>"
      ]
     },
     "execution_count": 20,
     "metadata": {},
     "output_type": "execute_result"
    },
    {
     "data": {
      "image/png": "[encoded data removed]",
      "text/plain": [
       "<Figure size 432x288 with 1 Axes>"
      ]
     },
     "metadata": {
      "needs_background": "light"
     },
     "output_type": "display_data"
    }
   ],
   "source": [
    "# Plot birth year\n",
    "birth_year_labels = []\n",
    "i = 0\n",
    "for k in n_posts_per_label['birth_year'].keys():\n",
    "    if i == 4:\n",
    "        i = 0\n",
    "    if i == 0:\n",
    "        space = ''\n",
    "    birth_year_labels.append(space + '\\'' + str(k[2:]))\n",
    "    space = space + '\\n'\n",
    "    i+=1\n",
    "\n",
    "plt.bar(birth_year_labels, n_posts_per_label['birth_year'].values())"
   ]
  },
  {
   "cell_type": "code",
   "execution_count": null,
   "metadata": {},
   "outputs": [],
   "source": []
  }
 ],
 "metadata": {
  "kernelspec": {
   "display_name": "Python 3",
   "language": "python",
   "name": "python3"
  },
  "language_info": {
   "codemirror_mode": {
    "name": "ipython",
    "version": 3
   },
   "file_extension": ".py",
   "mimetype": "text/x-python",
   "name": "python",
   "nbconvert_exporter": "python",
   "pygments_lexer": "ipython3",
   "version": "3.6.9"
  }
 },
 "nbformat": 4,
 "nbformat_minor": 4
}
